{
  "nbformat": 4,
  "nbformat_minor": 0,
  "metadata": {
    "colab": {
      "name": "TweeetMiner.ipynb",
      "provenance": [],
      "collapsed_sections": [],
      "toc_visible": true,
      "include_colab_link": true
    },
    "kernelspec": {
      "name": "python3",
      "display_name": "Python 3"
    }
  },
  "cells": [
    {
      "cell_type": "markdown",
      "metadata": {
        "id": "view-in-github",
        "colab_type": "text"
      },
      "source": [
        "<a href=\"https://colab.research.google.com/github/TheBoy-WhoCode/fake-news-detection/blob/master/TweeetMiner.ipynb\" target=\"_parent\"><img src=\"https://colab.research.google.com/assets/colab-badge.svg\" alt=\"Open In Colab\"/></a>"
      ]
    },
    {
      "cell_type": "code",
      "metadata": {
        "id": "ox_JF5ql3foo",
        "colab_type": "code",
        "colab": {}
      },
      "source": [
        "import tweepy as tw\n",
        "import datetime\n",
        "import pandas as pd\n",
        "print(tw.__version__)"
      ],
      "execution_count": 0,
      "outputs": []
    },
    {
      "cell_type": "code",
      "metadata": {
        "id": "w91Fi3jg23CZ",
        "colab_type": "code",
        "colab": {}
      },
      "source": [
        "class TweetMiner(object):\n",
        "  result_limit = 20\n",
        "  data = []\n",
        "  api = False\n",
        "  search_words = \"#coronavirus\"\n",
        "\n",
        "  twitter_keys = {\n",
        "      'consumer_key' : 'XXXXXXXXXXXXXX',\n",
        "      'consumer_secret' : 'XXXXXXXXXXXX',\n",
        "      'access_token' : 'XXXXXXXXXXXX',\n",
        "      'access_token_secret' : 'XXXXXXXXXXXX'\n",
        "  }\n",
        "\n",
        "  def __init__(self, keys_dict=twitter_keys, api=api, result_limit=result_limit):\n",
        "    self.twitter_keys = keys_dict\n",
        "    \n",
        "    auth = tw.OAuthHandler(keys_dict['consumer_key'], keys_dict['consumer_secret'])\n",
        "    auth.set_access_token(keys_dict['access_token'], keys_dict['access_token_secret'])\n",
        "\n",
        "    self.api = tw.API(auth, wait_on_rate_limit=True)\n",
        "    self.twitter_keys = keys_dict\n",
        "    self.result_limit = result_limit\n",
        "    # self.api.update_status(status='Test')\n",
        "\n",
        "  def mine_tweets(self, mine_retweets=True, tweet_count=1000):\n",
        "    data = []\n",
        "    last_tweet_id = True\n",
        "\n",
        "    statuses = tw.Cursor(self.api.search,\n",
        "                             q=self.search_words, \n",
        "                             count=self.result_limit,\n",
        "                             tweet_mode='extended',\n",
        "                             included_retweets=True,\n",
        "                             lang=\"en\").items(tweet_count)\n",
        "    # mined = [[tweet.id, \n",
        "    #           tweet.user.name, \n",
        "    #           tweet.user.screen_name, \n",
        "    #           tweet.full_text,\n",
        "    #           datetime.datetime.now(),\n",
        "    #           tweet.created_at,\n",
        "    #           tweet.favourite_count,\n",
        "    #           tweet.entities['hashtags'],\n",
        "    #           tweet.user.statuses_count,\n",
        "    #           tweet.place,\n",
        "    #           tweet.source,\n",
        "    #           tweet.user.verified] for tweet in statuses]    \n",
        "\n",
        "    for item in statuses:\n",
        "\n",
        "      mined = {\n",
        "        'tweet_id': item.id,\n",
        "        'name': item.user.name,\n",
        "        'screen_name': item.user.screen_name,\n",
        "        'retweet_count': item.retweet_count,\n",
        "        'text': item.full_text,\n",
        "        'mined_at': datetime.datetime.now(),\n",
        "        'created_at': item.created_at.strftime(\"%d-%b-%Y\"),\n",
        "        'favourite_count': item.favorite_count,\n",
        "        'hashtags': item.entities['hashtags'],\n",
        "        'urls' : item.entities['urls'],\n",
        "        'user_mentions' : item.entities['user_mentions'],\n",
        "        'status_count': item.user.statuses_count,\n",
        "        'location': item.user.location,\n",
        "        'source_device': item.source,\n",
        "        'verfied' : item.user.verified,\n",
        "        'source_url' : item.source_url\n",
        "        }                     \n",
        "      \n",
        "      try:\n",
        "        mined['retweet_text'] = item.retweeted_status.full_text\n",
        "      except:\n",
        "        mined['retweet_text'] = \"None\"\n",
        "      try:\n",
        "        mined['quote_text'] = item.quoted_status.full_text\n",
        "        mined['quote_screen_name'] = status.quoted_status.user.screen_name\n",
        "        # mined['urls'] = item.entities['urls']\n",
        "        # mined['user_mentions'] = item.entities['user_mentions']\n",
        "      except:\n",
        "        mined['quote_text'] = 'None'\n",
        "        mined['quote_screen_name'] = 'None'\n",
        "        # mined['urls'] = \"None\"\n",
        "        # mined['user_mentions'] = \"None\"\n",
        "\n",
        "      data.append(mined)\n",
        "\n",
        "    return data\n"
      ],
      "execution_count": 0,
      "outputs": []
    },
    {
      "cell_type": "code",
      "metadata": {
        "id": "9TqV31JN4S3E",
        "colab_type": "code",
        "colab": {}
      },
      "source": [
        "miner = TweetMiner(result_limit=20)"
      ],
      "execution_count": 0,
      "outputs": []
    },
    {
      "cell_type": "code",
      "metadata": {
        "id": "HmBZoD3n9XiQ",
        "colab_type": "code",
        "colab": {}
      },
      "source": [
        "mined_tweets = miner.mine_tweets(tweet_count=1800)"
      ],
      "execution_count": 0,
      "outputs": []
    },
    {
      "cell_type": "code",
      "metadata": {
        "id": "EMQLZDs69kWI",
        "colab_type": "code",
        "colab": {}
      },
      "source": [
        "print(mined_tweets)"
      ],
      "execution_count": 0,
      "outputs": []
    },
    {
      "cell_type": "code",
      "metadata": {
        "id": "FFsHVl-EGsE-",
        "colab_type": "code",
        "colab": {}
      },
      "source": [
        "tweet_text = pd.DataFrame(mined_tweets)"
      ],
      "execution_count": 0,
      "outputs": []
    },
    {
      "cell_type": "code",
      "metadata": {
        "id": "Nh-JRJrEG1ub",
        "colab_type": "code",
        "colab": {}
      },
      "source": [
        "tweet_text.to_csv(\"file_name.csv\")"
      ],
      "execution_count": 0,
      "outputs": []
    },
    {
      "cell_type": "code",
      "metadata": {
        "id": "EhAMYAjsG9k8",
        "colab_type": "code",
        "colab": {}
      },
      "source": [
        "df = pd.read_csv(\"/content/file_name.csv\")\n",
        "df"
      ],
      "execution_count": 0,
      "outputs": []
    }
  ]
}